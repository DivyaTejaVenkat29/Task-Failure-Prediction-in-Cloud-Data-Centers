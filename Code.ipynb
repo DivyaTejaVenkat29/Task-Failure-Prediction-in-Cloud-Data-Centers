{
 "cells": [
  {
   "cell_type": "code",
   "execution_count": 1,
   "id": "df30f233",
   "metadata": {},
   "outputs": [],
   "source": [
    "#Data pre-processing\n",
    "import numpy as np    \n",
    "import pandas as pd\n",
    "\n",
    "#Data visualzation\n",
    "import seaborn as sns\n",
    "import matplotlib.pyplot as plt\n",
    "import plotly.express as px# functions to visualize a variety of types of data. \n",
    "\n",
    "#Prediction scores\n",
    "from sklearn.metrics import accuracy_score, f1_score, precision_score, recall_score, classification_report, confusion_matrix #used to define the performance of a classification algorithm\n",
    "\n",
    "#machine learning algorithms\n",
    "from sklearn.model_selection import KFold,StratifiedKFold #Provides train/test indices to split data in train/test sets.\n",
    "from sklearn.model_selection import train_test_split #Split arrays or matrices into random train and test subsets.\n",
    "from keras.utils.np_utils import to_categorical #Converts a class vector (integers) to binary class matrix.\n",
    "from sklearn.metrics import log_loss #loss functions are a measurement of how good your model is in terms of predicting the expected outcome.\n",
    "from sklearn import linear_model #contain different functions for performing machine learning with linear models \n"
   ]
  },
  {
   "cell_type": "code",
   "execution_count": 2,
   "id": "06ac5d00",
   "metadata": {},
   "outputs": [],
   "source": [
    "#importing the dataset\n",
    "train_df=pd.read_csv('train_data.csv')"
   ]
  },
  {
   "cell_type": "code",
   "execution_count": 3,
   "id": "bc8cd88b",
   "metadata": {},
   "outputs": [
    {
     "name": "stdout",
     "output_type": "stream",
     "text": [
      "<class 'pandas.core.frame.DataFrame'>\n",
      "RangeIndex: 20000 entries, 0 to 19999\n",
      "Data columns (total 6 columns):\n",
      " #   Column               Non-Null Count  Dtype  \n",
      "---  ------               --------------  -----  \n",
      " 0   job_id               20000 non-null  object \n",
      " 1   memory_GB            20000 non-null  float64\n",
      " 2   network_log10_MBps   20000 non-null  float64\n",
      " 3   local_IO_log10_MBps  20000 non-null  float64\n",
      " 4   NFS_IO_log10_MBps    20000 non-null  float64\n",
      " 5   failed               20000 non-null  int64  \n",
      "dtypes: float64(4), int64(1), object(1)\n",
      "memory usage: 937.6+ KB\n"
     ]
    }
   ],
   "source": [
    "#Datasets columns\n",
    "train_df.info()"
   ]
  },
  {
   "cell_type": "code",
   "execution_count": 4,
   "id": "3e6cdb4f",
   "metadata": {},
   "outputs": [
    {
     "name": "stdout",
     "output_type": "stream",
     "text": [
      "(20000, 6)\n"
     ]
    }
   ],
   "source": [
    "#Dataset Size\n",
    "print(train_df.shape)"
   ]
  },
  {
   "cell_type": "code",
   "execution_count": 5,
   "id": "45dbc738",
   "metadata": {},
   "outputs": [
    {
     "data": {
      "text/plain": [
       "<AxesSubplot:xlabel='failed', ylabel='count'>"
      ]
     },
     "execution_count": 5,
     "metadata": {},
     "output_type": "execute_result"
    },
    {
     "data": {
      "image/png": "[encoded data removed]",
      "text/plain": [
       "<Figure size 432x288 with 1 Axes>"
      ]
     },
     "metadata": {
      "needs_background": "light"
     },
     "output_type": "display_data"
    }
   ],
   "source": [
    "#Dataset visualization \n",
    "import seaborn as sns\n",
    "sns.countplot(x=\"failed\", data = train_df)#it shows the counts of observations in each categorical bin using bars."
   ]
  },
  {
   "cell_type": "code",
   "execution_count": 6,
   "id": "7dc6a28a",
   "metadata": {},
   "outputs": [],
   "source": [
    "#iloc-helps us select a specific row or column from the data set.\n",
    "X = train_df.iloc[:, 1:5] #Independent columns\n",
    "y = train_df.iloc[:,5]# dependent columns"
   ]
  },
  {
   "cell_type": "code",
   "execution_count": 7,
   "id": "42cf6aa1",
   "metadata": {},
   "outputs": [
    {
     "name": "stdout",
     "output_type": "stream",
     "text": [
      "       memory_GB  network_log10_MBps  local_IO_log10_MBps  NFS_IO_log10_MBps\n",
      "18960    58.5105              3.4041               1.0371             2.3446\n",
      "11353    58.8871              3.2899               0.0202             2.1375\n",
      "7449      7.4443              2.9744              -0.2275            -3.0000\n",
      "14308    14.7109              3.3976               0.0752            -2.9991\n",
      "11889    11.4374             -1.7290              -0.8051            -3.0000\n",
      "...          ...                 ...                  ...                ...\n",
      "10955    11.2478             -0.5710              -0.4325            -3.0000\n",
      "17289     5.0395              2.6215              -1.0525            -0.9499\n",
      "5192    400.0972              3.9525               0.5470            -2.7431\n",
      "12172     5.2083              1.2176               0.7686            -3.0000\n",
      "235      66.2146              3.4434              -0.3105             1.9501\n",
      "\n",
      "[15000 rows x 4 columns]\n",
      "       memory_GB  network_log10_MBps  local_IO_log10_MBps  NFS_IO_log10_MBps\n",
      "11456    43.5647              2.8500              -0.9284            -3.0000\n",
      "16528   425.3533              0.0892               0.6655            -2.9899\n",
      "3253     22.9554              3.1435               0.0664            -0.7369\n",
      "18614     9.8706              0.6484               0.5849             0.3411\n",
      "1544     12.4408              0.1550              -0.8939            -1.3828\n",
      "...          ...                 ...                  ...                ...\n",
      "14011     7.3397             -1.7776              -1.0520            -2.9944\n",
      "18315    15.0969             -0.9007               0.7750            -3.0000\n",
      "6338     10.4288              2.0094              -0.7203            -0.7222\n",
      "2444     32.2389             -0.7660               0.5750            -2.9943\n",
      "13055     9.7540             -1.5542              -1.1965            -1.7515\n",
      "\n",
      "[5000 rows x 4 columns]\n",
      "18960    0\n",
      "11353    0\n",
      "7449     0\n",
      "14308    0\n",
      "11889    0\n",
      "        ..\n",
      "10955    0\n",
      "17289    0\n",
      "5192     0\n",
      "12172    0\n",
      "235      1\n",
      "Name: failed, Length: 15000, dtype: int64\n",
      "11456    0\n",
      "16528    0\n",
      "3253     0\n",
      "18614    0\n",
      "1544     0\n",
      "        ..\n",
      "14011    0\n",
      "18315    0\n",
      "6338     0\n",
      "2444     0\n",
      "13055    0\n",
      "Name: failed, Length: 5000, dtype: int64\n"
     ]
    }
   ],
   "source": [
    "#Dataset preprocessing \n",
    "#Dataset divided into train dataset ,test dataset\n",
    "from sklearn.preprocessing import StandardScaler\n",
    "\n",
    "X_train, X_test, y_train, y_test = train_test_split(X, y, random_state=1)\n",
    "print(X_train)\n",
    "print(X_test)\n",
    "print(y_train)\n",
    "print(y_test)"
   ]
  },
  {
   "cell_type": "code",
   "execution_count": 8,
   "id": "264fb9c6",
   "metadata": {},
   "outputs": [
    {
     "name": "stdout",
     "output_type": "stream",
     "text": [
      "[[ 5.851050e+01  3.404100e+00  1.037100e+00  2.344600e+00]\n",
      " [ 5.888710e+01  3.289900e+00  2.020000e-02  2.137500e+00]\n",
      " [ 7.444300e+00  2.974400e+00 -2.275000e-01 -3.000000e+00]\n",
      " ...\n",
      " [ 4.000972e+02  3.952500e+00  5.470000e-01 -2.743100e+00]\n",
      " [ 5.208300e+00  1.217600e+00  7.686000e-01 -3.000000e+00]\n",
      " [ 6.621460e+01  3.443400e+00 -3.105000e-01  1.950100e+00]]\n",
      "[[ 4.356470e+01  2.850000e+00 -9.284000e-01 -3.000000e+00]\n",
      " [ 4.253533e+02  8.920000e-02  6.655000e-01 -2.989900e+00]\n",
      " [ 2.295540e+01  3.143500e+00  6.640000e-02 -7.369000e-01]\n",
      " ...\n",
      " [ 1.042880e+01  2.009400e+00 -7.203000e-01 -7.222000e-01]\n",
      " [ 3.223890e+01 -7.660000e-01  5.750000e-01 -2.994300e+00]\n",
      " [ 9.754000e+00 -1.554200e+00 -1.196500e+00 -1.751500e+00]]\n",
      "4\n",
      "4\n",
      "[[[ 5.851050e+01]\n",
      "  [ 3.404100e+00]\n",
      "  [ 1.037100e+00]\n",
      "  [ 2.344600e+00]]\n",
      "\n",
      " [[ 5.888710e+01]\n",
      "  [ 3.289900e+00]\n",
      "  [ 2.020000e-02]\n",
      "  [ 2.137500e+00]]\n",
      "\n",
      " [[ 7.444300e+00]\n",
      "  [ 2.974400e+00]\n",
      "  [-2.275000e-01]\n",
      "  [-3.000000e+00]]\n",
      "\n",
      " ...\n",
      "\n",
      " [[ 4.000972e+02]\n",
      "  [ 3.952500e+00]\n",
      "  [ 5.470000e-01]\n",
      "  [-2.743100e+00]]\n",
      "\n",
      " [[ 5.208300e+00]\n",
      "  [ 1.217600e+00]\n",
      "  [ 7.686000e-01]\n",
      "  [-3.000000e+00]]\n",
      "\n",
      " [[ 6.621460e+01]\n",
      "  [ 3.443400e+00]\n",
      "  [-3.105000e-01]\n",
      "  [ 1.950100e+00]]]\n",
      "[[[ 4.356470e+01]\n",
      "  [ 2.850000e+00]\n",
      "  [-9.284000e-01]\n",
      "  [-3.000000e+00]]\n",
      "\n",
      " [[ 4.253533e+02]\n",
      "  [ 8.920000e-02]\n",
      "  [ 6.655000e-01]\n",
      "  [-2.989900e+00]]\n",
      "\n",
      " [[ 2.295540e+01]\n",
      "  [ 3.143500e+00]\n",
      "  [ 6.640000e-02]\n",
      "  [-7.369000e-01]]\n",
      "\n",
      " ...\n",
      "\n",
      " [[ 1.042880e+01]\n",
      "  [ 2.009400e+00]\n",
      "  [-7.203000e-01]\n",
      "  [-7.222000e-01]]\n",
      "\n",
      " [[ 3.223890e+01]\n",
      "  [-7.660000e-01]\n",
      "  [ 5.750000e-01]\n",
      "  [-2.994300e+00]]\n",
      "\n",
      " [[ 9.754000e+00]\n",
      "  [-1.554200e+00]\n",
      "  [-1.196500e+00]\n",
      "  [-1.751500e+00]]]\n"
     ]
    }
   ],
   "source": [
    "# now we reshape train,test dataset .\n",
    "X_train = X_train.values\n",
    "X_test = X_test.values\n",
    "print(X_train)\n",
    "print(X_test)\n",
    "print(X_train.shape[1])\n",
    "print(X_test.shape[1])\n",
    "\n",
    "X_train = X_train.reshape(-1, X_train.shape[1],1)\n",
    "X_test = X_test.reshape(-1, X_test.shape[1],1)\n",
    "print(X_train)\n",
    "print(X_test)"
   ]
  },
  {
   "cell_type": "code",
   "execution_count": 9,
   "id": "e9d86681",
   "metadata": {},
   "outputs": [
    {
     "name": "stdout",
     "output_type": "stream",
     "text": [
      "(15000, 4, 1)\n",
      "(5000, 4, 1)\n",
      "1\n"
     ]
    }
   ],
   "source": [
    "#return size,shape,dimensions of the dataframe\n",
    "print(X_train.shape)\n",
    "print(X_test.shape)\n",
    "print(X_train.shape[2])"
   ]
  },
  {
   "cell_type": "markdown",
   "id": "85f53b82",
   "metadata": {},
   "source": [
    "Convert the Target label to categorical"
   ]
  },
  {
   "cell_type": "code",
   "execution_count": 10,
   "id": "a685a1d9",
   "metadata": {},
   "outputs": [],
   "source": [
    "target_train = y_train\n",
    "target_test = y_test\n",
    "Y_train=to_categorical(target_train)\n",
    "Y_test=to_categorical(target_test)"
   ]
  },
  {
   "cell_type": "code",
   "execution_count": 11,
   "id": "4d5a007a",
   "metadata": {},
   "outputs": [
    {
     "name": "stdout",
     "output_type": "stream",
     "text": [
      "[[1. 0.]\n",
      " [1. 0.]\n",
      " [1. 0.]\n",
      " ...\n",
      " [1. 0.]\n",
      " [1. 0.]\n",
      " [0. 1.]]\n",
      "(15000, 2)\n",
      "(5000, 2)\n"
     ]
    }
   ],
   "source": [
    "print(Y_train)\n",
    "print(Y_train.shape)\n",
    "print(Y_test.shape)"
   ]
  },
  {
   "cell_type": "markdown",
   "id": "c5c1871f",
   "metadata": {},
   "source": [
    "Performance Evaluation Function"
   ]
  },
  {
   "cell_type": "code",
   "execution_count": 12,
   "id": "6ce169bd",
   "metadata": {},
   "outputs": [],
   "source": [
    "#To find the accuracy,precision,f1score for each algorithms\n",
    "def showResults(test, pred):\n",
    "    #For Example target_names = ['positive', 'negative']\n",
    "    # print(classification_report(test, pred, target_names=target_names))\n",
    "    accuracy = accuracy_score(test, pred)\n",
    "    precision=precision_score(test, pred, average='weighted')\n",
    "    f1Score=f1_score(test, pred, average='weighted') \n",
    "    loss=log_loss(test,pred)\n",
    "    print(\"Accuracy  : {}\".format(accuracy))\n",
    "    print(\"Precision : {}\".format(precision))\n",
    "    print(\"f1Score : {}\".format(f1Score))\n",
    "    print(\"Loss : {}\".format(loss))\n",
    "    cm=confusion_matrix(test, pred)\n",
    "    print(cm)"
   ]
  },
  {
   "cell_type": "markdown",
   "id": "1ad92c1b",
   "metadata": {},
   "source": [
    "# KFold Validation"
   ]
  },
  {
   "cell_type": "code",
   "execution_count": 13,
   "id": "14240e4d",
   "metadata": {},
   "outputs": [
    {
     "name": "stderr",
     "output_type": "stream",
     "text": [
      "C:\\Users\\saipa\\anaconda3\\lib\\site-packages\\sklearn\\metrics\\_classification.py:1221: UndefinedMetricWarning: Precision is ill-defined and being set to 0.0 in labels with no predicted samples. Use `zero_division` parameter to control this behavior.\n",
      "  _warn_prf(average, modifier, msg_start, len(result))\n",
      "C:\\Users\\saipa\\anaconda3\\lib\\site-packages\\sklearn\\metrics\\_classification.py:1221: UndefinedMetricWarning: Precision is ill-defined and being set to 0.0 in labels with no predicted samples. Use `zero_division` parameter to control this behavior.\n",
      "  _warn_prf(average, modifier, msg_start, len(result))\n"
     ]
    },
    {
     "name": "stdout",
     "output_type": "stream",
     "text": [
      "Accuracy  : 0.91825\n",
      "Precision : 0.8431830625000001\n",
      "f1Score : 0.8791169685911638\n",
      "Loss : 2.823544970283949\n",
      "[[11019     0]\n",
      " [  981     0]]\n",
      "Accuracy  : 0.9180833333333334\n",
      "Precision : 0.8428770069444445\n",
      "f1Score : 0.8788742306411202\n",
      "Loss : 2.829301433016434\n",
      "[[11017     0]\n",
      " [  983     0]]\n"
     ]
    },
    {
     "name": "stderr",
     "output_type": "stream",
     "text": [
      "C:\\Users\\saipa\\anaconda3\\lib\\site-packages\\sklearn\\metrics\\_classification.py:1221: UndefinedMetricWarning: Precision is ill-defined and being set to 0.0 in labels with no predicted samples. Use `zero_division` parameter to control this behavior.\n",
      "  _warn_prf(average, modifier, msg_start, len(result))\n",
      "C:\\Users\\saipa\\anaconda3\\lib\\site-packages\\sklearn\\metrics\\_classification.py:1221: UndefinedMetricWarning: Precision is ill-defined and being set to 0.0 in labels with no predicted samples. Use `zero_division` parameter to control this behavior.\n",
      "  _warn_prf(average, modifier, msg_start, len(result))\n"
     ]
    },
    {
     "name": "stdout",
     "output_type": "stream",
     "text": [
      "Accuracy  : 0.92075\n",
      "Precision : 0.8477805624999999\n",
      "f1Score : 0.8827599245086555\n",
      "Loss : 2.7371980292966716\n",
      "[[11049     0]\n",
      " [  951     0]]\n",
      "Accuracy  : 0.9223333333333333\n",
      "Precision : 0.8506987777777778\n",
      "f1Score : 0.8850689555517021\n",
      "Loss : 2.6825116333380636\n",
      "[[11068     0]\n",
      " [  932     0]]\n",
      "Accuracy  : 0.9199166666666667\n",
      "Precision : 0.8462466736111112\n",
      "f1Score : 0.8815452131892298\n",
      "Loss : 2.765980342959098\n",
      "[[11039     0]\n",
      " [  961     0]]\n",
      "4\n",
      "Max accuracy:0.9223333333333333\n",
      "Max precision:0.8506987777777778\n",
      "Max f1_score:0.8850689555517021\n",
      "List of possible accuracy: [0.9180833333333334, 0.91825, 0.9199166666666667, 0.92075, 0.9223333333333333]\n",
      "List of possible precision: [0.8428770069444445, 0.8431830625000001, 0.8462466736111112, 0.8477805624999999, 0.8506987777777778]\n",
      "List of possible f1_score: [0.8788742306411202, 0.8791169685911638, 0.8815452131892298, 0.8827599245086555, 0.8850689555517021]\n"
     ]
    },
    {
     "name": "stderr",
     "output_type": "stream",
     "text": [
      "C:\\Users\\saipa\\anaconda3\\lib\\site-packages\\sklearn\\metrics\\_classification.py:1221: UndefinedMetricWarning: Precision is ill-defined and being set to 0.0 in labels with no predicted samples. Use `zero_division` parameter to control this behavior.\n",
      "  _warn_prf(average, modifier, msg_start, len(result))\n"
     ]
    }
   ],
   "source": [
    "tempX=train_df.iloc[:,1:5].values\n",
    "tempY=train_df.iloc[:,5].values\n",
    "# Create  classifier object.\n",
    "lr = linear_model.LogisticRegression()\n",
    "  \n",
    "# Create StratifiedKFold object.\n",
    "skf = StratifiedKFold(n_splits=5, shuffle=True, random_state=1)\n",
    "a = []\n",
    "p=[]\n",
    "f1=[]\n",
    "\n",
    "for train_index, val_index in skf.split(X_train, target_train):\n",
    "    X_train, X_valcv = tempX[train_index], tempX[val_index]\n",
    "    Y_train, Y_valcv = tempY[train_index], tempY[val_index]\n",
    "    lr.fit(X_train,Y_train)\n",
    "    ypred=lr.predict(X_train)\n",
    "    a.append(accuracy_score(Y_train,ypred))\n",
    "    p.append(precision_score(Y_train,ypred,average='weighted'))\n",
    "    f1.append(f1_score(Y_train,ypred,average='weighted'))\n",
    "    showResults(Y_train,ypred)\n",
    "a.sort()\n",
    "p.sort()\n",
    "f1.sort()\n",
    "max1=a[0]\n",
    "for i in range(len(a)):\n",
    "    if a[i]>max1:\n",
    "        max1=a[i]\n",
    "print(i)\n",
    "print(f'Max accuracy:{a[i]}')\n",
    "print(f'Max precision:{p[i]}')\n",
    "print(f'Max f1_score:{f1[i]}')\n",
    "    \n",
    "print('List of possible accuracy:', a)\n",
    "print('List of possible precision:', p)\n",
    "print('List of possible f1_score:', f1)\n",
    "# print('\\nMaximum Accuracy That can be obtained from this model is:',max(lst_accu_stratified)*100, '%')\n",
    "# print('\\nMinimum Accuracy:',min(lst_accu_stratified)*100, '%')\n",
    "# print('\\nOverall Accuracy:',mean(lst_accu_stratified)*100, '%')\n"
   ]
  },
  {
   "cell_type": "markdown",
   "id": "5bc126cd",
   "metadata": {},
   "source": [
    "# Hidden Markov Model"
   ]
  },
  {
   "cell_type": "code",
   "execution_count": 14,
   "id": "6e6aa980",
   "metadata": {},
   "outputs": [
    {
     "name": "stdout",
     "output_type": "stream",
     "text": [
      "*Confusion Matrix for HMM: \n",
      "[[15790  2584]\n",
      " [ 1461   165]]\n"
     ]
    }
   ],
   "source": [
    "from hmmlearn.hmm import GaussianHMM\n",
    "hmm = GaussianHMM(n_components=2)#the filtering, smoothing, forecasting, evaluating, decoding, and learning problems\n",
    "hmm.fit(X)\n",
    "predictions = hmm.predict(X)\n",
    "print(\"*Confusion Matrix for HMM: \")\n",
    "print(confusion_matrix(y, predictions))"
   ]
  },
  {
   "cell_type": "code",
   "execution_count": 15,
   "id": "3a1b4bc9",
   "metadata": {
    "scrolled": true
   },
   "outputs": [
    {
     "name": "stdout",
     "output_type": "stream",
     "text": [
      "*Classification report for HMM: \n",
      "              precision    recall  f1-score   support\n",
      "\n",
      "           0       0.92      0.86      0.89     18374\n",
      "           1       0.06      0.10      0.08      1626\n",
      "\n",
      "    accuracy                           0.80     20000\n",
      "   macro avg       0.49      0.48      0.48     20000\n",
      "weighted avg       0.85      0.80      0.82     20000\n",
      "\n"
     ]
    }
   ],
   "source": [
    "print(\"*Classification report for HMM: \")\n",
    "print(classification_report(y, predictions))"
   ]
  },
  {
   "cell_type": "code",
   "execution_count": 16,
   "id": "9d8c2071",
   "metadata": {},
   "outputs": [
    {
     "name": "stdout",
     "output_type": "stream",
     "text": [
      "79.77499999999999\n"
     ]
    }
   ],
   "source": [
    "val3 = accuracy_score(y, predictions) *100\n",
    "print(val3)"
   ]
  },
  {
   "cell_type": "code",
   "execution_count": 17,
   "id": "fa7bcfc8",
   "metadata": {},
   "outputs": [],
   "source": [
    "#logistic regression uses a logistic function and the perceptron uses a step function."
   ]
  },
  {
   "cell_type": "code",
   "execution_count": 18,
   "id": "c1a95636",
   "metadata": {},
   "outputs": [
    {
     "name": "stdout",
     "output_type": "stream",
     "text": [
      "Accuracy  : 0.9363846153846154\n",
      "Precision : 0.9358868801432731\n",
      "f1Score : 0.919186139927476\n",
      "Loss : 2.1971988361643984\n",
      "[[11901    21]\n",
      " [  806   272]]\n"
     ]
    }
   ],
   "source": [
    "from sklearn.neural_network import MLPClassifier\n",
    "X_train, X_test, y_train, y_test = train_test_split(X, y,test_size=0.65,random_state=1) \n",
    "# Create model object\n",
    "clf = MLPClassifier(hidden_layer_sizes=(6,5),#each element represents one layer and its value represents the number of neurons on each hidden layer\n",
    "                    learning_rate_init=0.01)# It used to controls the step-size in updating the weights.\n",
    "\n",
    "# Fit data onto the model\n",
    "clf.fit(X_train,y_train)#takes the training data as arguments, which can be two arrays in supervised learning.\n",
    "ypred=clf.predict(X_test)#predict the label of a new set of data\n",
    "\n",
    "showResults(y_test,ypred)"
   ]
  },
  {
   "cell_type": "code",
   "execution_count": 19,
   "id": "396a5fe2",
   "metadata": {},
   "outputs": [
    {
     "name": "stderr",
     "output_type": "stream",
     "text": [
      "C:\\Users\\saipa\\anaconda3\\lib\\site-packages\\sklearn\\metrics\\_classification.py:1221: UndefinedMetricWarning: Precision is ill-defined and being set to 0.0 in labels with no predicted samples. Use `zero_division` parameter to control this behavior.\n",
      "  _warn_prf(average, modifier, msg_start, len(result))\n"
     ]
    }
   ],
   "source": [
    "a=[]\n",
    "p=[]\n",
    "f1=[]\n",
    "learning_rate=[]\n",
    "X_train, X_test, y_train, y_test = train_test_split(X, y,test_size=0.5,random_state=1) \n",
    "def different_rates():    \n",
    "    s=np.linspace(0.01,0.1,5)# tool in Python for creating numeric sequences\n",
    "    l=[]\n",
    "    \n",
    "    \n",
    "    t=[0.3,0.4,0.5,0.6,0.7] #test sizes\n",
    "    for i in s:\n",
    "        l.append(float('{:.2f}'.format(i)))\n",
    "    for j in l:\n",
    "            \n",
    "            clf1 = MLPClassifier(hidden_layer_sizes=(6,5),\n",
    "                    #each element represents one layer and its value represents the number of neurons on each hidden layer\n",
    "                    learning_rate_init=j)# It used to controls the step-size in updating the weights.\n",
    "    \n",
    "            learning_rate.append(j)\n",
    "            clf1.fit(X_train,y_train)#takes the training data as arguments, which can be two arrays in supervised learning.\n",
    "            ypred=clf1.predict(X_test)#predict the label of a new set of data\n",
    "            a.append(accuracy_score(y_test,ypred))\n",
    "            p.append(precision_score(y_test,ypred, average='weighted'))\n",
    "\n",
    "            f1.append(f1_score(y_test,ypred, average='weighted'))\n",
    "different_rates()\n",
    "\n",
    "\n",
    "\n"
   ]
  },
  {
   "cell_type": "code",
   "execution_count": 20,
   "id": "6a0c7535",
   "metadata": {},
   "outputs": [
    {
     "name": "stdout",
     "output_type": "stream",
     "text": [
      "<module 'matplotlib.pyplot' from 'C:\\\\Users\\\\saipa\\\\anaconda3\\\\lib\\\\site-packages\\\\matplotlib\\\\pyplot.py'>\n"
     ]
    },
    {
     "data": {
      "image/png": "[encoded data removed]",
      "text/plain": [
       "<Figure size 432x288 with 1 Axes>"
      ]
     },
     "metadata": {
      "needs_background": "light"
     },
     "output_type": "display_data"
    }
   ],
   "source": [
    "plt.plot(learning_rate,f1,label='learning_rate vs f1_score')\n",
    "plt.xlabel(\"learning_rate\")\n",
    "plt.ylabel(\"f1_score\")\n",
    "print(plt)\n",
    "\n",
    "plt.title(' learning_Rate vs F1_score ')  \n",
    "plt.legend()# show a legend on the plot\n",
    "plt.show()# function to show the plot\n"
   ]
  },
  {
   "cell_type": "code",
   "execution_count": 21,
   "id": "cc3617ab",
   "metadata": {},
   "outputs": [
    {
     "name": "stderr",
     "output_type": "stream",
     "text": [
      "C:\\Users\\saipa\\anaconda3\\lib\\site-packages\\sklearn\\metrics\\_classification.py:1221: UndefinedMetricWarning: Precision is ill-defined and being set to 0.0 in labels with no predicted samples. Use `zero_division` parameter to control this behavior.\n",
      "  _warn_prf(average, modifier, msg_start, len(result))\n",
      "C:\\Users\\saipa\\anaconda3\\lib\\site-packages\\sklearn\\metrics\\_classification.py:1221: UndefinedMetricWarning: Precision is ill-defined and being set to 0.0 in labels with no predicted samples. Use `zero_division` parameter to control this behavior.\n",
      "  _warn_prf(average, modifier, msg_start, len(result))\n",
      "C:\\Users\\saipa\\anaconda3\\lib\\site-packages\\sklearn\\metrics\\_classification.py:1221: UndefinedMetricWarning: Precision is ill-defined and being set to 0.0 in labels with no predicted samples. Use `zero_division` parameter to control this behavior.\n",
      "  _warn_prf(average, modifier, msg_start, len(result))\n"
     ]
    }
   ],
   "source": [
    "a=[]\n",
    "p=[]\n",
    "f1=[]\n",
    "Test_rate=[]\n",
    "def different_rates():    \n",
    "    s=np.linspace(0.01,0.1,5)# tool in Python for creating numeric sequences\n",
    "    l=[]\n",
    "    \n",
    "    \n",
    "    t=[0.3,0.4,0.5,0.6,0.7] #test sizes\n",
    "    for i in s:\n",
    "        l.append(float('{:.2f}'.format(i)))\n",
    "    clf1 = MLPClassifier(hidden_layer_sizes=(6,5),\n",
    "            #each element represents one layer and its value represents the number of neurons on each hidden layer\n",
    "            learning_rate_init=0.08)# It used to controls the step-size in updating the weights.\n",
    "    \n",
    "    for i in t:\n",
    "        X_train, X_test, y_train, y_test = train_test_split(X, y,test_size=i,random_state=1) \n",
    "        Test_rate.append(i)\n",
    "                                    \n",
    "        clf1.fit(X_train,y_train)# Fit data onto the model      \n",
    "        ypred=clf1.predict(X_test) #takes the training data as arguments, which can be two arrays in supervised learning.\n",
    "        a.append(accuracy_score(y_test,ypred))\n",
    "        p.append(precision_score(y_test,ypred, average='weighted'))\n",
    "        f1.append(f1_score(y_test,ypred, average='weighted'))\n",
    "different_rates()"
   ]
  },
  {
   "cell_type": "code",
   "execution_count": 22,
   "id": "3df63b42",
   "metadata": {},
   "outputs": [
    {
     "name": "stdout",
     "output_type": "stream",
     "text": [
      "<module 'matplotlib.pyplot' from 'C:\\\\Users\\\\saipa\\\\anaconda3\\\\lib\\\\site-packages\\\\matplotlib\\\\pyplot.py'>\n"
     ]
    },
    {
     "data": {
      "image/png": "[encoded data removed]",
      "text/plain": [
       "<Figure size 432x288 with 1 Axes>"
      ]
     },
     "metadata": {
      "needs_background": "light"
     },
     "output_type": "display_data"
    }
   ],
   "source": [
    "plt.plot(Test_rate,f1,label='Sampling_rate vs f1_score')\n",
    "plt.xlabel(\"Sampling_rate\")\n",
    "plt.ylabel(\"f1_score\")\n",
    "print(plt)\n",
    "plt.title('Sampling_Rate vs F1_score ')\n",
    "plt.legend()# show a legend on the plot  \n",
    "plt.show()# function to show the plot\n"
   ]
  }
 ],
 "metadata": {
  "kernelspec": {
   "display_name": "Python 3",
   "language": "python",
   "name": "python3"
  },
  "language_info": {
   "codemirror_mode": {
    "name": "ipython",
    "version": 3
   },
   "file_extension": ".py",
   "mimetype": "text/x-python",
   "name": "python",
   "nbconvert_exporter": "python",
   "pygments_lexer": "ipython3",
   "version": "3.8.8"
  }
 },
 "nbformat": 4,
 "nbformat_minor": 5
}
